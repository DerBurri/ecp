{
 "cells": [
  {
   "cell_type": "markdown",
   "id": "42a14256-91c8-446e-92a7-ab6bf11055d3",
   "metadata": {},
   "source": [
    "# Homework 3: Image Convolution and Approximation Homework\n",
    "\n",
    "**Due**: Wednesday, December 6, 9:14am, via\n",
    "[Moodle](https://moodle.uni-heidelberg.de/mod/assign/view.php?id=988858)"
   ]
  },
  {
   "cell_type": "markdown",
   "metadata": {},
   "source": [
    "## Group Members\n",
    "\n",
    "- Maximilian Burr\n",
    "- Christian ..."
   ]
  },
  {
   "cell_type": "markdown",
   "metadata": {},
   "source": [
    "## Regulations:\n",
    "\n",
    "We ask you to include your solutions (only the .ipynb) in a zip folder\n",
    "and upload it on Moodle. Include the names of all members (not more than\n",
    "3) on top of your jupyter notebook as a markdown cell. The submission\n",
    "deadline is always the next week before the beginning of the class on\n",
    "Wednesday at 09:14 but this time you have two weeks to work on this\n",
    "homework. For clarification on the code, please try to include comments\n",
    "in order for it to be understandable.\n",
    "\n",
    "  \n",
    "\n"
   ]
  },
  {
   "cell_type": "markdown",
   "metadata": {},
   "source": [
    "### Loading required packages packages"
   ]
  },
  {
   "cell_type": "code",
   "execution_count": 1,
   "metadata": {},
   "outputs": [],
   "source": [
    "from skimage import io, img_as_float, img_as_ubyte\n",
    "import numpy as np\n",
    "from scipy import signal\n",
    "import matplotlib.pyplot as plt"
   ]
  },
  {
   "cell_type": "markdown",
   "metadata": {},
   "source": [
    "### Exact Adder Function\n",
    "\n",
    "The ExactAdder function performs binary addition on three input bits (a,\n",
    "b, and c). It outputs the sum (s) and carry-out (c_out) based on the\n",
    "combination of input bits. The function encapsulates the logic of a full\n",
    "adder, handling all possible input cases through conditional statements.\n",
    "It is a fundamental component in digital circuit design."
   ]
  },
  {
   "cell_type": "code",
   "execution_count": 2,
   "metadata": {},
   "outputs": [],
   "source": [
    "def ExactAdder(a, b, c):\n",
    "    if a==0 and b==0 and c==0:\n",
    "        s=0\n",
    "        c_out=0\n",
    "    elif a==0 and b==0 and c==1:\n",
    "        s=1\n",
    "        c_out=0\n",
    "    elif a==0 and b==1 and c==0:\n",
    "        s=1\n",
    "        c_out=0\n",
    "    elif a==0 and b==1 and c==1:\n",
    "        s=0\n",
    "        c_out=1\n",
    "    elif a==1 and b==0 and c==0:\n",
    "        s=1\n",
    "        c_out=0\n",
    "    elif a==1 and b==0 and c==1:\n",
    "        s=0\n",
    "        c_out=1\n",
    "    elif a==1 and b==1 and c==0:\n",
    "        s=0\n",
    "        c_out=1\n",
    "    elif a==1 and b==1 and c==1:\n",
    "        s=1\n",
    "        c_out=1\n",
    "    return s, c_out"
   ]
  },
  {
   "cell_type": "markdown",
   "metadata": {},
   "source": [
    "### Approximate Adder Function<a href=\"#Approximate-Adder-Function\" class=\"anchor-link\">¶</a>\n",
    "\n",
    "The ApproxAdder function attempts binary addition but deviates from\n",
    "conventional logic in its handling of input combinations. In particular,\n",
    "it provides an inaccurate sum (s) for the cases (0, 0, 0) and (1, 1, 1).\n",
    "\n",
    "Failure Cases:\n",
    "\n",
    "#### Input (0, 0, 0):<a href=\"#Input-(0,-0,-0):\" class=\"anchor-link\">¶</a>\n",
    "\n",
    "Incorrect sum (s) = 1 Correct carry-out (c_out) = 0\n",
    "\n",
    "#### Input (1, 1, 1):<a href=\"#Input-(1,-1,-1):\" class=\"anchor-link\">¶</a>\n",
    "\n",
    "Incorrect sum (s) = 0 Correct carry-out (c_out) = 1\n",
    "\n",
    "#### Considerations:<a href=\"#Considerations:\" class=\"anchor-link\">¶</a>\n",
    "\n",
    "The function's approach to binary addition may have specific intentions,\n",
    "but users should be cautious about its accuracy, especially in scenarios\n",
    "requiring precise binary addition.\n",
    "\n",
    "#### Function Usage:<a href=\"#Function-Usage:\" class=\"anchor-link\">¶</a>\n",
    "\n",
    "Call the function with three binary inputs (a, b, and c) to obtain the\n",
    "potentially inaccurate sum (s) and correct carry-out (c_out)."
   ]
  },
  {
   "cell_type": "code",
   "execution_count": 3,
   "metadata": {},
   "outputs": [],
   "source": [
    "def ApproxAdder(a, b, c):\n",
    "    if a==0 and b==0 and c==0:\n",
    "        s=1\n",
    "        c_out=0\n",
    "    elif a==0 and b==0 and c==1:\n",
    "        s=1\n",
    "        c_out=0\n",
    "    elif a==0 and b==1 and c==0:\n",
    "        s=1\n",
    "        c_out=0\n",
    "    elif a==0 and b==1 and c==1:\n",
    "        s=0\n",
    "        c_out=1\n",
    "    elif a==1 and b==0 and c==0:\n",
    "        s=1\n",
    "        c_out=0\n",
    "    elif a==1 and b==0 and c==1:\n",
    "        s=0\n",
    "        c_out=1\n",
    "    elif a==1 and b==1 and c==0:\n",
    "        s=0\n",
    "        c_out=1\n",
    "    elif a==1 and b==1 and c==1:\n",
    "        s=0\n",
    "        c_out=1\n",
    "    return s, c_out"
   ]
  },
  {
   "cell_type": "markdown",
   "metadata": {},
   "source": [
    "### N-bit Adder Function\n",
    "\n",
    "The `MyNbitAdder` function is designed to perform N-bit addition, where\n",
    "the lower 4 bits utilize an approximate adder (`ApproxAdder`), and the\n",
    "remaining bits employ an exact adder (`ExactAdder`).\n",
    "\n",
    "#### Function Overview\n",
    "\n",
    "1.  **Input Conversion:**\n",
    "\n",
    "    -   Convert input integers `a` and `b` to binary and remove the\n",
    "        binary prefix.\n",
    "\n",
    "2.  **Byte Reversal:**\n",
    "\n",
    "    -   Reverse the order of bits in both binary representations.\n",
    "\n",
    "3.  **Equalizing Byte Length:**\n",
    "\n",
    "    -   Ensure both binary representations have equal length by padding\n",
    "        with zeros.\n",
    "\n",
    "4.  **Bitwise Addition:**\n",
    "\n",
    "    -   Perform bitwise addition, using either the approximate adder or\n",
    "        exact adder based on the specified threshold (`approx_until`).\n",
    "\n",
    "5.  **Result Calculation:**\n",
    "\n",
    "    -   Calculate the total sum by summing up the bitwise results and\n",
    "        accounting for any carry-over.\n",
    "\n",
    "This function allows users to perform N-bit addition with a customizable\n",
    "threshold (`approx_until`) to switch between the approximate and exact\n",
    "adders. Adjust the threshold as needed for specific requirements."
   ]
  },
  {
   "cell_type": "code",
   "execution_count": 4,
   "metadata": {},
   "outputs": [
    {
     "data": {
      "text/plain": [
       "4"
      ]
     },
     "execution_count": 4,
     "metadata": {},
     "output_type": "execute_result"
    }
   ],
   "source": [
    "#In 12 bit adder, lower 4 bits are implemented with approximate adder and rest of the with with exact adder\n",
    "def MyNbitAdder(a,b,approx_until = 4):\n",
    "    #convert to binary and cut off the first two indices (they dont belong to the number but indicate that it is binary)\n",
    "    a_bin, b_bin = bin(a)[2:] , bin(b)[2:]\n",
    "    \n",
    "    #reverse order of bytes for the adder\n",
    "    rev_a , rev_b = list(a_bin[::-1]), list(b_bin[::-1])\n",
    "    \n",
    "    \n",
    "    #We want to make the to bytes to equalt length such that we can add \n",
    "    #--> add zeros to the shortest list until it is the same as the longest\n",
    "    rev_a = rev_a + max(0, len(rev_b)-len(rev_a)) * [0]\n",
    "    rev_b = rev_b + max(0, len(rev_a)-len(rev_b)) * [0]\n",
    "    \n",
    "    \n",
    "    carry_over  = 0\n",
    "    total_sum   = 0\n",
    "    \n",
    "    #############################################\n",
    "    # approx_until = 4 #change this if u want to approximate the first bits by an approximate adder\n",
    "    #############################################\n",
    "\n",
    "    #we want to do a bitwise addition\n",
    "    for index, (bit1, bit2) in enumerate( zip(rev_a, rev_b) ):\n",
    "\n",
    "        if index < approx_until:\n",
    "            #use approx_adder\n",
    "            sum_element, carry_over = ApproxAdder(int(bit1), int(bit2), int(carry_over) ) \n",
    "        else:\n",
    "            #use exact_adder\n",
    "            sum_element, carry_over = ExactAdder(int(bit1), int(bit2), int(carry_over) )\n",
    "            \n",
    "        total_sum += pow(2,index)*sum_element\n",
    "\n",
    "    total_sum += pow(2,index+1)*carry_over\n",
    "    return total_sum\n",
    "\n",
    "MyNbitAdder(3,3)"
   ]
  },
  {
   "cell_type": "markdown",
   "metadata": {},
   "source": [
    "### Image Adder Function\n",
    "\n",
    "The `MyAdder` function is designed to add two images represented as\n",
    "arrays (`f` and `g`). It utilizes a custom N-bit adder (`MyNbitAdder`)\n",
    "for element-wise addition of corresponding pixel values.\n",
    "\n",
    "#### Function Overview<a href=\"#Function-Overview\" class=\"anchor-link\">¶</a>\n",
    "\n",
    "1.  **Input Conversion:**\n",
    "\n",
    "    -   Convert input images `f` and `g` to NumPy arrays and ensure they\n",
    "        are of integer type.\n",
    "\n",
    "2.  **Image Size Validation:**\n",
    "\n",
    "    -   Ensure that the size of both images is the same.\n",
    "\n",
    "3.  **Pixel-wise Addition:**\n",
    "\n",
    "    -   Iterate through each pixel of the images and use the custom\n",
    "        N-bit adder (`MyNbitAdder`) to add corresponding pixel values.\n",
    "\n",
    "4.  **Resultant Image:**\n",
    "\n",
    "    -   Return the resultant image as a NumPy array.\n",
    "\n",
    "This function allows users to add two images pixel-wise using the custom\n",
    "N-bit adder. Ensure that the images have the same size for proper\n",
    "element-wise addition. Adjust the input images as needed for specific\n",
    "use cases."
   ]
  },
  {
   "cell_type": "code",
   "execution_count": 5,
   "metadata": {},
   "outputs": [
    {
     "data": {
      "text/plain": [
       "array([[2., 1., 1.],\n",
       "       [1., 2., 1.],\n",
       "       [1., 1., 2.]])"
      ]
     },
     "execution_count": 5,
     "metadata": {},
     "output_type": "execute_result"
    }
   ],
   "source": [
    "# Function that addes two images\n",
    "def MyAdder(f,g):\n",
    "    \n",
    "    f=np.array(f).astype(int)\n",
    "    g=np.array(g).astype(int)\n",
    "    #ensure that the size of the image is the same\n",
    "    \n",
    "    res = np.zeros(f.shape)\n",
    "    \n",
    "    for i in range(f.shape[0]):\n",
    "        for j in range(f.shape[1]):\n",
    "            \n",
    "            #we will use a custom adding function\n",
    "            res[i, j] = MyNbitAdder(f[i,j],g[i,j])\n",
    "            # FIXME: Why divide by 2?!\n",
    "    \n",
    "    return res\n",
    "\n",
    "f = np.eye(3)\n",
    "g = np.eye(3)\n",
    "MyAdder(f,g)"
   ]
  },
  {
   "cell_type": "markdown",
   "metadata": {},
   "source": [
    "### Filter Definition\n",
    "\n",
    "The kernel or filter for convolution is defined as follows: This 3x3\n",
    "filter is often used in image processing, particularly in Gaussian blur\n",
    "operations. Each element in the filter contributes to the weighted sum\n",
    "of pixel values during convolution, emphasizing the central pixel.\n",
    "Adjustments to the filter values can impact the characteristics of the\n",
    "convolution operation, such as blurring or edge detection."
   ]
  },
  {
   "cell_type": "code",
   "execution_count": 6,
   "metadata": {},
   "outputs": [],
   "source": [
    "########## Gaussian kernel/filter ##############\n",
    "fltr = [\n",
    "    [1, 2, 1],\n",
    "    [2, 4, 2],\n",
    "    [1, 2, 1]\n",
    "]\n",
    "fltr = np.array(fltr)"
   ]
  },
  {
   "cell_type": "markdown",
   "metadata": {},
   "source": [
    "### Additional Filters\n",
    "\n",
    "In addition to the Gaussian filter mentioned above, we provide two types\n",
    "of filters classified as follows:\n",
    "\n",
    "#### 1) Low Pass Filter\n",
    "\n",
    "-   **f1:** Low pass average filter\n",
    "-   **f2:** Low pass Gaussian filter with dimension 3x3\n",
    "-   **f3:** Low pass Gaussian filter with dimension 5x5\n",
    "\n",
    "These filters are designed for tasks such as removing noise from images\n",
    "or smoothing/blurring images. The key characteristic is that the sum of\n",
    "all the kernel elements should be one.\n",
    "\n",
    "#### 2) High Pass Filter\n",
    "\n",
    "-   **f4:** High pass horizontal vertical filter\n",
    "-   **f5:** High pass diagonal filter\n",
    "-   **f6:** Sobel horizontal edge filter\n",
    "\n",
    "High pass filters are utilized for edge detection or sharpening of\n",
    "images, and they have the property that the sum of all the kernel\n",
    "elements should be zero.\n"
   ]
  },
  {
   "cell_type": "code",
   "execution_count": 32,
   "metadata": {},
   "outputs": [],
   "source": [
    "filter= []\n",
    "\n",
    "f1 = [\n",
    "    [1, 1, 1],\n",
    "    [1, 1, 1],\n",
    "    [1, 1, 1]\n",
    "]\n",
    "f1 = np.array(f1)\n",
    "#f1 = 1/np.sum(f1) *np.array(f1)\n",
    "filter.append(f1)\n",
    "\n",
    "#again a normalized gaussian filter\n",
    "f2 = [\n",
    "    [1, 2, 1],\n",
    "    [2, 4, 2],\n",
    "    [1, 2, 1]\n",
    "] \n",
    "#f2 = 1/np.sum(f2) *np.array(f2)\n",
    "f2 = np.array(f2)\n",
    "filter.append(f2)\n",
    "\n",
    "f3 = [\n",
    "    [1, 4,  7,  4,  1],\n",
    "    [4, 16, 26, 16, 4],\n",
    "    [7, 26, 41, 26, 7],\n",
    "    [4, 16, 26, 16, 4],\n",
    "    [1, 4,  7,  4,  1]\n",
    "]\n",
    "f3 = np.array(f2)\n",
    "#f3 = 1/np.sum(f3) *np.array(f3)\n",
    "filter.append(f3)\n",
    "\n",
    "f4 = [\n",
    "    [0, -1,  0],\n",
    "    [-1, 4, -1],\n",
    "    [0, -1,  0]\n",
    "]\n",
    "f4 = np.array(f4)\n",
    "filter.append(f4)\n",
    "\n",
    "f5 = [\n",
    "    [-1, 0,  -1],\n",
    "    [0,  4,   0],\n",
    "    [-1, 0,  -1]\n",
    "]\n",
    "f5 = np.array(f5)\n",
    "filter.append(f5)\n",
    "\n",
    "f6 = [\n",
    "    [1,   2,   1],\n",
    "    [0,   0,   0],\n",
    "    [-1, -2,  -1]\n",
    "]\n",
    "f6 = np.array(f6)\n",
    "filter.append(f6)\n",
    "\n"
   ]
  },
  {
   "cell_type": "markdown",
   "metadata": {},
   "source": [
    "## Homework Objective:\n",
    "The objective of this homework is to explore the approximation of the\n",
    "\"adding process\" within the convolution operation. This involves\n",
    "defining functions for multi-adding (`MultiAdder`) and approximating\n",
    "convolution (`MyConvAdder`). The degree of approximation can be\n",
    "controlled by the variable `approx_until`. Additionally, we will compare\n",
    "the results of approximate convolution with an exact convolution using\n",
    "Python's own convolution function.\n",
    "\n",
    "  \n",
    "\n",
    "## Subtasks:\n",
    "\n",
    "### 1.1 **Define the \"MultiAdder\" Function (5 points):**\n",
    "\n",
    "-   Create a function called `MultiAdder` that takes a list/matrix of\n",
    "    numbers and uses the `MyAdder` function to add them approximately.\n",
    "-   The function should return the result of the multi-adding process."
   ]
  },
  {
   "cell_type": "code",
   "execution_count": null,
   "metadata": {},
   "outputs": [
    {
     "data": {
      "text/plain": [
       "128"
      ]
     },
     "execution_count": 8,
     "metadata": {},
     "output_type": "execute_result"
    }
   ],
   "source": [
    "\n",
    "def MultiAdder(numbers, approx_until):\n",
    "    array = np.array(numbers)\n",
    "    sum = 0\n",
    "    for element in np.nditer(array):\n",
    "        sum = MyNbitAdder(sum,element, approx_until)\n",
    "    return sum\n",
    "    # sum = MyAdder(numbers, None)\n",
    "MultiAdder([[1,2,3,4,5,6,7,8,9,10],[10,9,8,7,6,5,4,3,2,1]], 4)"
   ]
  },
  {
   "cell_type": "markdown",
   "metadata": {},
   "source": [
    "### 1.2 Define the \"MyConvAdder\" Function (5 points):\n",
    "\n",
    "-   Create a function called `MyConvAdder` that simulates the\n",
    "    convolution operation using the `MultiAdder` function for the adding\n",
    "    process.\n",
    "-   The function should take an image and a 3x3 filter/kernel and return\n",
    "    the convolved image."
   ]
  },
  {
   "cell_type": "code",
   "execution_count": 9,
   "metadata": {},
   "outputs": [],
   "source": [
    "\n",
    "def MyConvAdder(image, kernel, approx_until):\n",
    "    image = np.array(image)\n",
    "    kernel = np.array(kernel)\n",
    "    image_shape = image.shape\n",
    "    kernel_shape = kernel.shape\n",
    "    result_array = np.zeros((image_shape[0]-kernel_shape[0]+1,image_shape[1]-kernel_shape[1]+1))\n",
    "    for x in range(image_shape[0]-kernel_shape[0]+1):\n",
    "        for y in range(image_shape[1]-kernel_shape[1]+1):\n",
    "            result = np.multiply(np.flip(kernel),image[x:x+kernel_shape[0],y:y+kernel_shape[1]])\n",
    "            result = MultiAdder(result,approx_until)\n",
    "            result_array[x,y]=result\n",
    "    # Your code here\n",
    "    return result_array"
   ]
  },
  {
   "cell_type": "markdown",
   "metadata": {},
   "source": [
    "\n",
    "\n",
    "### 1.3 Import the Sample Image and use the already defined filter(5 points):\n",
    "\n",
    "-   Import the sample image and convert it to grayscale(already\n",
    "    discussed in lecture). The sample image(man.jpeg) is also given in\n",
    "    the resouces folder on Moodle.\n",
    "-   Use a 3x3 gaussian filter/kernel (fltr) for convolution and apply\n",
    "    the above `MyConvAdder` function on the sample image\n",
    "-   Additionally, try out some of the given filters above f1-f6 and\n",
    "    observe and document the effects on the convolved image\n",
    "\n"
   ]
  },
  {
   "cell_type": "code",
   "execution_count": 10,
   "metadata": {},
   "outputs": [],
   "source": [
    "# Your code here\n",
    "sample_image = np.array(io.imread(\"man.jpeg\"))\n",
    "sample_image = np.array((0.299 * np.array(sample_image[:,:,0])) + (0.587 * np.array(sample_image[:,:,1])) + (0.114 * np.array(sample_image[:,:,2])), dtype=int)\n",
    "\n",
    "filter_kernel = fltr\n",
    "result_images = []\n",
    "for i in range(9):\n",
    "    result_image = MyConvAdder(sample_image,filter_kernel,i)\n",
    "    result_images.append(result_image)\n",
    "\n"
   ]
  },
  {
   "cell_type": "markdown",
   "metadata": {},
   "source": [
    "### 1.4 Perform Approximate and Exact Convolution (5 points):\n",
    "\n",
    "-   Use the `MyConvAdder` function to perform approximate convolution.\n",
    "-   Use Python's own convolution function (e.g., from `scipy.signal`) to\n",
    "    perform exact convolution.\n",
    "-   Compare the results and calculate the error and similarity between\n",
    "    the two convolution outputs."
   ]
  },
  {
   "cell_type": "code",
   "execution_count": 47,
   "metadata": {},
   "outputs": [
    {
     "data": {
      "application/vnd.jupyter.widget-view+json": {
       "model_id": "e9cc7d62a79c468c8ea545656f8898f7",
       "version_major": 2,
       "version_minor": 0
      },
      "text/plain": [
       "interactive(children=(IntSlider(value=4, description='approx_until', max=20), IntSlider(value=1, description='…"
      ]
     },
     "metadata": {},
     "output_type": "display_data"
    }
   ],
   "source": [
    "# Your code here\n",
    "from ipywidgets import interact, interactive, fixed, interact_manual, Output\n",
    "import ipywidgets as widgets\n",
    "from skimage.metrics import structural_similarity as ssim\n",
    "from math import log10\n",
    "\n",
    "\n",
    "def calcSimilarity(exact_result,approx_result):\n",
    "\n",
    "    data_range=exact_result.max() - approx_result.max()  \n",
    "    ssi = ssim(exact_result, approx_result, data_range=data_range)\n",
    "    print(f\"similarity {ssi}\")\n",
    "    return ssi\n",
    "\n",
    "def calcError(exact_result,approx_result):\n",
    "    max_error_distance = (exact_result-approx_result).max()  ### maximum error distance between two images\n",
    "    print(f\"Max Error Distance: {max_error_distance}\")\n",
    "    mse = np.mean((exact_result - approx_result)**2)         ### MSE should be closed to zreo\n",
    "    print(f\"Mean Squared Error: {mse}\")\n",
    "    psnr = 10 * log10((exact_result.max()**2) /mse)       ### PSNR should be closer to 54 dB\n",
    "    print(f\"Picture Signal to Noise Ratio {psnr}\")\n",
    "    return max_error_distance,mse,psnr\n",
    "\n",
    "def process(sample_image, approx_until,filter_number):\n",
    "    approx_convolution_result = MyConvAdder(sample_image, filter[filter_number], approx_until)\n",
    "    exact_convolution_result = signal.convolve2d(sample_image,filter[filter_number],mode=\"valid\")\n",
    "    calcError(exact_convolution_result,approx_convolution_result)\n",
    "    calcSimilarity(exact_convolution_result,approx_convolution_result)\n",
    "    plt.subplot(1,2,1)\n",
    "    plt.imshow(approx_convolution_result,cmap='gray')\n",
    "    plt.title('Approx Convolution')\n",
    "\n",
    "    plt.subplot(1,2,2)\n",
    "    plt.imshow(exact_convolution_result,cmap='gray')\n",
    "    plt.title('Exact Convolution')\n",
    "\n",
    "    plt.show()\n",
    "\n",
    "progress_output = Output()\n",
    "\n",
    "\n",
    "w = interactive(process,sample_image=fixed(sample_image), \n",
    "                approx_until=widgets.IntSlider(min=0, max=20, step=1, value=4),\n",
    "                filter_number=widgets.IntSlider(min=0, max=5, step=1, value=1))\n",
    "\n",
    "display(w)\n",
    "\n",
    "\n"
   ]
  },
  {
   "cell_type": "markdown",
   "metadata": {},
   "source": [
    "fig, ax = plt.subplots(9, figsize=(5,45))\n",
    "for i in range(9):\n",
    "    ax[i].imshow(exact_convolution_result-ressult[i], cmap=\"gray\")\n",
    "print(approx_convolution_result.shape)\n",
    "print(exact_convolution_result.shape)"
   ]
  }
 ],
 "metadata": {
  "kernelspec": {
   "display_name": "ecp",
   "language": "python",
   "name": "python3"
  },
  "language_info": {
   "codemirror_mode": {
    "name": "ipython",
    "version": 3
   },
   "file_extension": ".py",
   "mimetype": "text/x-python",
   "name": "python",
   "nbconvert_exporter": "python",
   "pygments_lexer": "ipython3",
   "version": "3.11.6"
  }
 },
 "nbformat": 4,
 "nbformat_minor": 5
}
