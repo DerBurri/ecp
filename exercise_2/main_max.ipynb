{
 "cells": [
  {
   "cell_type": "code",
   "execution_count": 1,
   "metadata": {},
   "outputs": [
    {
     "name": "stderr",
     "output_type": "stream",
     "text": [
      "2023-11-11 11:37:23.568246: I tensorflow/core/platform/cpu_feature_guard.cc:182] This TensorFlow binary is optimized to use available CPU instructions in performance-critical operations.\n",
      "To enable the following instructions: SSE4.1 SSE4.2 AVX AVX2 FMA, in other operations, rebuild TensorFlow with the appropriate compiler flags.\n"
     ]
    }
   ],
   "source": [
    "import numpy as np\n",
    "import matplotlib.pyplot as plt\n",
    "import tensorflow as tf\n",
    "from scipy import signal\n",
    "from tensorflow import keras\n",
    "\n",
    "\n"
   ]
  },
  {
   "cell_type": "code",
   "execution_count": 2,
   "metadata": {},
   "outputs": [
    {
     "name": "stdout",
     "output_type": "stream",
     "text": [
      "[]\n"
     ]
    }
   ],
   "source": [
    "print(tf.config.list_physical_devices('XPU'))"
   ]
  },
  {
   "cell_type": "code",
   "execution_count": 3,
   "metadata": {},
   "outputs": [
    {
     "data": {
      "image/png": "[encoded data removed]",
      "text/plain": [
       "<Figure size 640x480 with 1 Axes>"
      ]
     },
     "metadata": {},
     "output_type": "display_data"
    }
   ],
   "source": [
    "mnist = tf.keras.datasets.mnist\n",
    "(train_images, train_labels), (test_images, test_labels) = mnist.load_data()\n",
    "tf.shape(train_images)\n",
    "\n",
    "plt.imshow(train_images[0])\n",
    "plt.show()\n",
    "\n",
    "\n",
    "\n"
   ]
  },
  {
   "cell_type": "code",
   "execution_count": 4,
   "metadata": {},
   "outputs": [
    {
     "name": "stdout",
     "output_type": "stream",
     "text": [
      "Model: \"sequential_1\"\n",
      "_________________________________________________________________\n",
      " Layer (type)                Output Shape              Param #   \n",
      "=================================================================\n",
      " conv2d_5 (Conv2D)           (None, 28, 28, 64)        128       \n",
      "                                                                 \n",
      " activation_8 (Activation)   (None, 28, 28, 64)        0         \n",
      "                                                                 \n",
      " conv2d_6 (Conv2D)           (None, 28, 28, 32)        2080      \n",
      "                                                                 \n",
      " activation_9 (Activation)   (None, 28, 28, 32)        0         \n",
      "                                                                 \n",
      " max_pooling2d_3 (MaxPoolin  (None, 28, 28, 32)        0         \n",
      " g2D)                                                            \n",
      "                                                                 \n",
      " conv2d_7 (Conv2D)           (None, 28, 28, 16)        528       \n",
      "                                                                 \n",
      " activation_10 (Activation)  (None, 28, 28, 16)        0         \n",
      "                                                                 \n",
      " conv2d_8 (Conv2D)           (None, 26, 26, 8)         1160      \n",
      "                                                                 \n",
      " activation_11 (Activation)  (None, 26, 26, 8)         0         \n",
      "                                                                 \n",
      " max_pooling2d_4 (MaxPoolin  (None, 26, 26, 8)         0         \n",
      " g2D)                                                            \n",
      "                                                                 \n",
      " conv2d_9 (Conv2D)           (None, 24, 24, 4)         292       \n",
      "                                                                 \n",
      " activation_12 (Activation)  (None, 24, 24, 4)         0         \n",
      "                                                                 \n",
      " max_pooling2d_5 (MaxPoolin  (None, 24, 24, 4)         0         \n",
      " g2D)                                                            \n",
      "                                                                 \n",
      " flatten_1 (Flatten)         (None, 2304)              0         \n",
      "                                                                 \n",
      " dense_3 (Dense)             (None, 128)               295040    \n",
      "                                                                 \n",
      " activation_13 (Activation)  (None, 128)               0         \n",
      "                                                                 \n",
      " dense_4 (Dense)             (None, 64)                8256      \n",
      "                                                                 \n",
      " activation_14 (Activation)  (None, 64)                0         \n",
      "                                                                 \n",
      " dense_5 (Dense)             (None, 10)                650       \n",
      "                                                                 \n",
      " activation_15 (Activation)  (None, 10)                0         \n",
      "                                                                 \n",
      "=================================================================\n",
      "Total params: 308134 (1.18 MB)\n",
      "Trainable params: 308134 (1.18 MB)\n",
      "Non-trainable params: 0 (0.00 Byte)\n",
      "_________________________________________________________________\n"
     ]
    }
   ],
   "source": [
    "model = tf.keras.models.load_model('my_org_model_top4_quant.h5')\n",
    "model.summary()"
   ]
  },
  {
   "cell_type": "code",
   "execution_count": 5,
   "metadata": {},
   "outputs": [],
   "source": [
    "a = model.get_weights()\n",
    "\n"
   ]
  },
  {
   "cell_type": "code",
   "execution_count": null,
   "metadata": {},
   "outputs": [],
   "source": []
  },
  {
   "cell_type": "code",
   "execution_count": null,
   "metadata": {},
   "outputs": [],
   "source": []
  },
  {
   "cell_type": "code",
   "execution_count": 6,
   "metadata": {},
   "outputs": [
    {
     "name": "stderr",
     "output_type": "stream",
     "text": [
      "2023-11-11 11:37:25.385356: W tensorflow/tsl/framework/cpu_allocator_impl.cc:83] Allocation of 2007040000 exceeds 10% of free system memory.\n",
      "2023-11-11 11:37:25.627745: W tensorflow/tsl/framework/cpu_allocator_impl.cc:83] Allocation of 2007040000 exceeds 10% of free system memory.\n"
     ]
    },
    {
     "name": "stderr",
     "output_type": "stream",
     "text": [
      "2023-11-11 11:37:25.856686: W tensorflow/tsl/framework/cpu_allocator_impl.cc:83] Allocation of 2007040000 exceeds 10% of free system memory.\n"
     ]
    },
    {
     "name": "stdout",
     "output_type": "stream",
     "text": [
      "Model: \"model\"\n",
      "_________________________________________________________________\n",
      " Layer (type)                Output Shape              Param #   \n",
      "=================================================================\n",
      " conv2d_5_input (InputLayer  [(None, 28, 28, 1)]       0         \n",
      " )                                                               \n",
      "                                                                 \n",
      " conv2d_5 (Conv2D)           (None, 28, 28, 64)        128       \n",
      "                                                                 \n",
      " activation_8 (Activation)   (None, 28, 28, 64)        0         \n",
      "                                                                 \n",
      " conv2d_6 (Conv2D)           (None, 28, 28, 32)        2080      \n",
      "                                                                 \n",
      " activation_9 (Activation)   (None, 28, 28, 32)        0         \n",
      "                                                                 \n",
      " max_pooling2d_3 (MaxPoolin  (None, 28, 28, 32)        0         \n",
      " g2D)                                                            \n",
      "                                                                 \n",
      " conv2d_7 (Conv2D)           (None, 28, 28, 16)        528       \n",
      "                                                                 \n",
      " activation_10 (Activation)  (None, 28, 28, 16)        0         \n",
      "                                                                 \n",
      " conv2d_8 (Conv2D)           (None, 26, 26, 8)         1160      \n",
      "                                                                 \n",
      " activation_11 (Activation)  (None, 26, 26, 8)         0         \n",
      "                                                                 \n",
      " max_pooling2d_4 (MaxPoolin  (None, 26, 26, 8)         0         \n",
      " g2D)                                                            \n",
      "                                                                 \n",
      " conv2d_9 (Conv2D)           (None, 24, 24, 4)         292       \n",
      "                                                                 \n",
      " activation_12 (Activation)  (None, 24, 24, 4)         0         \n",
      "                                                                 \n",
      " max_pooling2d_5 (MaxPoolin  (None, 24, 24, 4)         0         \n",
      " g2D)                                                            \n",
      "                                                                 \n",
      " flatten_1 (Flatten)         (None, 2304)              0         \n",
      "                                                                 \n",
      " dense_3 (Dense)             (None, 128)               295040    \n",
      "                                                                 \n",
      " activation_13 (Activation)  (None, 128)               0         \n",
      "                                                                 \n",
      " dense_4 (Dense)             (None, 64)                8256      \n",
      "                                                                 \n",
      " activation_14 (Activation)  (None, 64)                0         \n",
      "                                                                 \n",
      " dense_5 (Dense)             (None, 10)                650       \n",
      "                                                                 \n",
      "=================================================================\n",
      "Total params: 308134 (1.18 MB)\n",
      "Trainable params: 308134 (1.18 MB)\n",
      "Non-trainable params: 0 (0.00 Byte)\n",
      "_________________________________________________________________\n"
     ]
    }
   ],
   "source": [
    "extractor_in = keras.Model(inputs=model.inputs,outputs=[layer.input for layer in model.layers])\n",
    "\n",
    "\n",
    "features_in = extractor_in(test_images)\n",
    "\n",
    "extractor_in.summary()\n"
   ]
  },
  {
   "cell_type": "code",
   "execution_count": null,
   "metadata": {},
   "outputs": [],
   "source": []
  },
  {
   "cell_type": "markdown",
   "metadata": {},
   "source": [
    "# Multiplier Exact"
   ]
  },
  {
   "cell_type": "markdown",
   "metadata": {},
   "source": []
  },
  {
   "cell_type": "code",
   "execution_count": null,
   "metadata": {},
   "outputs": [],
   "source": []
  },
  {
   "cell_type": "code",
   "execution_count": 7,
   "metadata": {},
   "outputs": [],
   "source": [
    "Multiplier_Exact = np.zeros([256,256])\n",
    "\n",
    "for i in range ( -128 , 128) :\n",
    "  for j in range ( -128 , 128) :\n",
    "    Multiplier_Exact [ i + 128 , j + 128] = i * j\n",
    "\n",
    "def My_Mult_Exact (a , b , t =0) :\n",
    "  a = np.array ( a )\n",
    "  b = np.array ( b )\n",
    "  a_shape = np.shape ( a )\n",
    "  b = np.reshape (b , a_shape )\n",
    "\n",
    "  res = np . zeros ( a_shape )\n",
    "\n",
    "  if len ( a_shape ) == 1:\n",
    " # E x a c t m u l t i p l i c a t i o n f o r 1 D a r r a y s\n",
    "    for i in range ( np . shape ( a ) [0]) :\n",
    "        res [ i ] = Multiplier_Exact [ int ( a [ i ]) + 128 ,\n",
    "        int ( b [ i ]) + 128]\n",
    "    if len ( a_shape ) == 2:\n",
    " # E x a c t m u l t i p l i c a t i o n f o r 2 D a r r a y s\n",
    "        for i in range ( a_shape [0]):\n",
    "            for j in range ( a_shape [1]) :\n",
    "                res [i , j ] = Multiplier_Exact [ int ( a [i , j\n",
    "        ]) + 128 , int ( b [i , j ]) + 128]\n",
    "\n",
    "    return res\n",
    "\n"
   ]
  },
  {
   "cell_type": "code",
   "execution_count": 8,
   "metadata": {},
   "outputs": [],
   "source": [
    "def My_Matmul_LT_Exact (a , b , t =0) :\n",
    "    a = np.array ( a )\n",
    "    b = np.array ( b )\n",
    "    a_shape = np.shape ( a )\n",
    "    b_shape = np.shape ( b )\n",
    "    res = np.zeros([a_shape[0], b_shape[1]])\n",
    "\n",
    "    for i in range ( a_shape [0]) :\n",
    "        for j in range ( b_shape [1]) :\n",
    "# E x a c t m a t r i x m u l t i p l i c a t i o n u s i n gMy_Mult_Exact\n",
    "            res [i ,j] = np.sum ( My_Mult_Exact ( a [i , :] , b\n",
    "            [: , j ] , t ) )\n",
    "\n",
    "    return res"
   ]
  },
  {
   "cell_type": "code",
   "execution_count": 9,
   "metadata": {},
   "outputs": [],
   "source": [
    "def My_Conv2d_LT_Exact(a,b,t=0):\n",
    "    a=np.array(a)\n",
    "    b=np.array(b)\n",
    "    a_shape=np.shape(a)\n",
    "    b_shape=np.shape(b)\n",
    "    res_shape1=np.abs(a_shape[0]-b_shape[0])+1\n",
    "    res_shape2=np.abs(a_shape[1]-b_shape[1])+1\n",
    "    res=np.zeros([res_shape1,res_shape2])\n",
    "    for i in range(res_shape1):\n",
    "        for j in range(res_shape2):\n",
    "            res[i,j]=np.sum(My_Matmul_LT_Exact(np.flip(b),a[i:i+b_shape[0],j:j+b_shape[1]],t))\n",
    "    return res\n",
    "\n",
    "\n",
    "\n"
   ]
  },
  {
   "cell_type": "code",
   "execution_count": 15,
   "metadata": {},
   "outputs": [
    {
     "name": "stdout",
     "output_type": "stream",
     "text": [
      "Model: \"sequential_1\"\n",
      "_________________________________________________________________\n",
      " Layer (type)                Output Shape              Param #   \n",
      "=================================================================\n",
      " conv2d_5 (Conv2D)           (None, 28, 28, 64)        128       \n",
      "                                                                 \n",
      " activation_8 (Activation)   (None, 28, 28, 64)        0         \n",
      "                                                                 \n",
      " conv2d_6 (Conv2D)           (None, 28, 28, 32)        2080      \n",
      "                                                                 \n",
      " activation_9 (Activation)   (None, 28, 28, 32)        0         \n",
      "                                                                 \n",
      " max_pooling2d_3 (MaxPoolin  (None, 28, 28, 32)        0         \n",
      " g2D)                                                            \n",
      "                                                                 \n",
      " conv2d_7 (Conv2D)           (None, 28, 28, 16)        528       \n",
      "                                                                 \n",
      " activation_10 (Activation)  (None, 28, 28, 16)        0         \n",
      "                                                                 \n",
      " conv2d_8 (Conv2D)           (None, 26, 26, 8)         1160      \n",
      "                                                                 \n",
      " activation_11 (Activation)  (None, 26, 26, 8)         0         \n",
      "                                                                 \n",
      " max_pooling2d_4 (MaxPoolin  (None, 26, 26, 8)         0         \n",
      " g2D)                                                            \n",
      "                                                                 \n",
      " conv2d_9 (Conv2D)           (None, 24, 24, 4)         292       \n",
      "                                                                 \n",
      " activation_12 (Activation)  (None, 24, 24, 4)         0         \n",
      "                                                                 \n",
      " max_pooling2d_5 (MaxPoolin  (None, 24, 24, 4)         0         \n",
      " g2D)                                                            \n",
      "                                                                 \n",
      " flatten_1 (Flatten)         (None, 2304)              0         \n",
      "                                                                 \n",
      " dense_3 (Dense)             (None, 128)               295040    \n",
      "                                                                 \n",
      " activation_13 (Activation)  (None, 128)               0         \n",
      "                                                                 \n",
      " dense_4 (Dense)             (None, 64)                8256      \n",
      "                                                                 \n",
      " activation_14 (Activation)  (None, 64)                0         \n",
      "                                                                 \n",
      " dense_5 (Dense)             (None, 10)                650       \n",
      "                                                                 \n",
      " activation_15 (Activation)  (None, 10)                0         \n",
      "                                                                 \n",
      "=================================================================\n",
      "Total params: 308134 (1.18 MB)\n",
      "Trainable params: 308134 (1.18 MB)\n",
      "Non-trainable params: 0 (0.00 Byte)\n",
      "_________________________________________________________________\n"
     ]
    }
   ],
   "source": [
    "model.summary()"
   ]
  },
  {
   "cell_type": "markdown",
   "metadata": {},
   "source": [
    "# Exact CNN"
   ]
  },
  {
   "cell_type": "code",
   "execution_count": 24,
   "metadata": {},
   "outputs": [],
   "source": [
    "def Exact_CNN(k ,t):\n",
    "    ## CNN LAyer 1\n",
    "    # Quantization of input data floor resolution of integer\n",
    "    z1 = np.floor(features_in[0][k] / 2)\n",
    "    z2 = np.zeros([28,28,64])\n",
    "    # Iterate through the 64 output channels\n",
    "    for i  in range(64):\n",
    "        for j in range(1):\n",
    "            z2[:,:,i]=z2[:,:,i]+My_Conv2d_LT_Exact(np.array(z1[:,:,j]),np.flip(a[0][:,:,j,i]),t)\n",
    "        z2[:,:,i]=z2[:,:,i]+a[1][i]\n",
    "    # Add biases/weights from the first layer\n",
    "    z2[:,:,i] = z2[:,:,i] + a[1][i]\n",
    "    # Apply ReLu Activation Function\n",
    "    z3 = np.maximum(0,z2)\n",
    "\n",
    "    ## CNN Layer 2\n",
    "    # Quantize the feature map \n",
    "    z3 = np.round((z3/np.max(z3))*127  )\n",
    "    z4 = np.zeros([28,28,32])\n",
    "\n",
    "    for i in range(32):\n",
    "        for j in range(64):\n",
    "             z4[:,:,i]=z4[:,:,i]+My_Conv2d_LT_Exact(np.array(z3[:,:,j]),np.flip(a[2][:,:,j,i]),t)\n",
    "        z4[:,:,i]=z4[:,:,i]+a[3][i]\n",
    "\n",
    "    # Apply ReLu Activation Function\n",
    "    z5 = np.maximum(0,z4)\n",
    "\n",
    "    ## CNN LAyer 3\n",
    "    z5 = np.round((z5/ np.max(z5)) * 127)\n",
    "    z6 = np.zeros([28,28,16])\n",
    "    for i  in range(16):\n",
    "        for j in range(32):\n",
    "            z6[:,:,i]=z6[:,:,i]+My_Conv2d_LT_Exact(np.array(z5[:,:,j]),np.flip(a[4][:,:,j,i]),t)\n",
    "            z6[:,:,i]=z6[:,:,i]+a[5][i]\n",
    "    z61 = np.maximum(0,z6) # ReLu\n",
    "\n",
    "    ## CNN Layer 3\n",
    "    z61 = np.round((z61/np.max(z61))* 127)\n",
    "    z7 = np.zeros([26,26,8])\n",
    "    for i in range(8):\n",
    "        for j in range(16):\n",
    "             z7[:,:,i]=z7[:,:,i]+My_Conv2d_LT_Exact(np.array(z61[:,:,j]),np.flip(a[6][:,:,j,i]),t)\n",
    "        z7[:,:,i]=z7[:,:,i]+a[7][i]\n",
    "    z8=np.maximum(0,z7)                # ReLU\n",
    "\n",
    "    ## CNN Layer 4\n",
    "    z8=np.round((z8/np.max(z8))*127)   # Quantization\n",
    "    z9=np.zeros([24,24,4])\n",
    "    for i in range(4):\n",
    "        for j in range(8):\n",
    "             z9[:,:,i]=z9[:,:,i]+My_Conv2d_LT_Exact(np.array(z8[:,:,j]),np.flip(a[8][:,:,j,i]),t)\n",
    "        z9[:,:,i]=z9[:,:,i]+a[9][i]\n",
    "        \n",
    "    z10=np.maximum(0,z9)              # ReLU\n",
    "\n",
    "     \n",
    "    # Flatten Layer\n",
    "    z10=np.round((z10/np.max(z10))*127)  # Quantization\n",
    "    z13=np.reshape(z10,[1,-1])  #  Flatten layer\n",
    "    z14=My_Matmul_LT_Exact(z13,a[10],t)+a[11]  \n",
    "    z15=np.maximum(0,z14) # ReLU\n",
    "\n",
    "    # \n",
    "    z15=np.round((z15/np.max(z15))*127)  # Quantization\n",
    "    z141=My_Matmul_LT_Exact(z15,a[12],t)+a[13] # ReLU\n",
    "    z151=np.maximum(0,z141)\n",
    "    z151=np.round((z151/np.max(z151))*127) # Quantization\n",
    "    z16=My_Matmul_LT_Exact(z151,a[14],t)+a[15]\n",
    "    z16=np.round((z16/np.max(z16))*127) # Quantization\n",
    "    return np.argmax(z16), z3,z5,z61,z8,z10,z15,z151,z16\n",
    "\n",
    "\n",
    "\n",
    "    \n",
    "\n",
    "\n",
    "\n",
    "    "
   ]
  },
  {
   "cell_type": "code",
   "execution_count": 25,
   "metadata": {},
   "outputs": [],
   "source": [
    "# Mit Flip\n",
    "\n",
    "def Exact_CNN_with_Flip(k ,t):\n",
    "    ## CNN LAyer 1\n",
    "    # Quantization of input data floor resolution of integer\n",
    "    z1 = np.floor(features_in[0][k] / 2)\n",
    "    z2 = np.zeros([28,28,64])\n",
    "    # Iterate through the 64 output channels\n",
    "    for i  in range(64):\n",
    "        for j in range(1):\n",
    "            z2[:,:,i]=z2[:,:,i]+My_Conv2d_LT_Exact(np.array(z1[:,:,j]),a[0][:,:,j,i],t)\n",
    "        z2[:,:,i]=z2[:,:,i]+a[1][i]\n",
    "    # Add biases/weights from the first layer\n",
    "    z2[:,:,i] = z2[:,:,i] + a[1][i]\n",
    "    # Apply ReLu Activation Function\n",
    "    z3 = np.maximum(0,z2)\n",
    "\n",
    "    ## CNN Layer 2\n",
    "    # Quantize the feature map \n",
    "    z3 = np.round((z3/np.max(z3))*127  )\n",
    "    z4 = np.zeros([28,28,32])\n",
    "\n",
    "    for i in range(32):\n",
    "        for j in range(64):\n",
    "             z4[:,:,i]=z4[:,:,i]+My_Conv2d_LT_Exact(np.array(z3[:,:,j]),a[2][:,:,j,i],t)\n",
    "        z4[:,:,i]=z4[:,:,i]+a[3][i]\n",
    "\n",
    "    # Apply ReLu Activation Function\n",
    "    z5 = np.maximum(0,z4)\n",
    "\n",
    "    ## CNN LAyer 3\n",
    "    z5 = np.round((z5/ np.max(z5)) * 127)\n",
    "    z6 = np.zeros([28,28,16])\n",
    "    for i  in range(16):\n",
    "        for j in range(32):\n",
    "            z6[:,:,i]=z6[:,:,i]+My_Conv2d_LT_Exact(np.array(z5[:,:,j]),a[4][:,:,j,i],t)\n",
    "            z6[:,:,i]=z6[:,:,i]+a[5][i]\n",
    "    z61 = np.maximum(0,z6) # ReLu\n",
    "\n",
    "    ## CNN Layer 3\n",
    "    z61 = np.round((z61/np.max(z61))* 127)\n",
    "    z7 = np.zeros([26,26,8])\n",
    "    for i in range(8):\n",
    "        for j in range(16):\n",
    "             z7[:,:,i]=z7[:,:,i]+My_Conv2d_LT_Exact(np.array(z61[:,:,j]),a[6][:,:,j,i],t)\n",
    "        z7[:,:,i]=z7[:,:,i]+a[7][i]\n",
    "    z8=np.maximum(0,z7)                # ReLU\n",
    "\n",
    "    ## CNN Layer 4\n",
    "    z8=np.round((z8/np.max(z8))*127)   # Quantization\n",
    "    z9=np.zeros([24,24,4])\n",
    "    for i in range(4):\n",
    "        for j in range(8):\n",
    "             z9[:,:,i]=z9[:,:,i]+My_Conv2d_LT_Exact(np.array(z8[:,:,j]),a[8][:,:,j,i],t)\n",
    "        z9[:,:,i]=z9[:,:,i]+a[9][i]\n",
    "        \n",
    "    z10=np.maximum(0,z9)              # ReLU\n",
    "\n",
    "     \n",
    "    # Flatten Layer\n",
    "    z10=np.round((z10/np.max(z10))*127)  # Quantization\n",
    "    z13=np.reshape(z10,[1,-1])  #  Flatten layer\n",
    "    z14=My_Matmul_LT_Exact(z13,a[10],t)+a[11]  \n",
    "    z15=np.maximum(0,z14) # ReLU\n",
    "\n",
    "    # \n",
    "    z15=np.round((z15/np.max(z15))*127)  # Quantization\n",
    "    z141=My_Matmul_LT_Exact(z15,a[12],t)+a[13] # ReLU\n",
    "    z151=np.maximum(0,z141)\n",
    "    z151=np.round((z151/np.max(z151))*127) # Quantization\n",
    "    z16=My_Matmul_LT_Exact(z151,a[14],t)+a[15]\n",
    "    z16=np.round((z16/np.max(z16))*127) # Quantization\n",
    "    return np.argmax(z16), z3,z5,z61,z8,z10,z15,z151,z16\n",
    "\n",
    "\n",
    "\n",
    "    \n",
    "\n",
    "\n",
    "\n",
    "    "
   ]
  },
  {
   "cell_type": "code",
   "execution_count": 28,
   "metadata": {},
   "outputs": [
    {
     "ename": "IndexError",
     "evalue": "list index out of range",
     "output_type": "error",
     "traceback": [
      "\u001b[0;31m---------------------------------------------------------------------------\u001b[0m",
      "\u001b[0;31mIndexError\u001b[0m                                Traceback (most recent call last)",
      "\u001b[1;32m/home/mburr/Dokumente/Uni/ecp/exercise_2/main_max.ipynb Cell 20\u001b[0m line \u001b[0;36m8\n\u001b[1;32m      <a href='vscode-notebook-cell:/home/mburr/Dokumente/Uni/ecp/exercise_2/main_max.ipynb#X23sZmlsZQ%3D%3D?line=5'>6</a>\u001b[0m Layer_Number\u001b[39m=\u001b[39m\u001b[39m1\u001b[39m\n\u001b[1;32m      <a href='vscode-notebook-cell:/home/mburr/Dokumente/Uni/ecp/exercise_2/main_max.ipynb#X23sZmlsZQ%3D%3D?line=6'>7</a>\u001b[0m \u001b[39mfor\u001b[39;00m i \u001b[39min\u001b[39;00m \u001b[39mrange\u001b[39m(\u001b[39m1\u001b[39m,\u001b[39m3\u001b[39m):\n\u001b[0;32m----> <a href='vscode-notebook-cell:/home/mburr/Dokumente/Uni/ecp/exercise_2/main_max.ipynb#X23sZmlsZQ%3D%3D?line=7'>8</a>\u001b[0m     images\u001b[39m.\u001b[39mappend(Vis_Mat[i][Layer_Number])\n\u001b[1;32m     <a href='vscode-notebook-cell:/home/mburr/Dokumente/Uni/ecp/exercise_2/main_max.ipynb#X23sZmlsZQ%3D%3D?line=9'>10</a>\u001b[0m \u001b[39m# Create a 3x3 grid of subplots\u001b[39;00m\n\u001b[1;32m     <a href='vscode-notebook-cell:/home/mburr/Dokumente/Uni/ecp/exercise_2/main_max.ipynb#X23sZmlsZQ%3D%3D?line=10'>11</a>\u001b[0m fig, axes \u001b[39m=\u001b[39m plt\u001b[39m.\u001b[39msubplots(\u001b[39m3\u001b[39m, \u001b[39m3\u001b[39m, figsize\u001b[39m=\u001b[39m(\u001b[39m8\u001b[39m, \u001b[39m8\u001b[39m))\n",
      "\u001b[0;31mIndexError\u001b[0m: list index out of range"
     ]
    }
   ],
   "source": [
    "Vis_Mat=[]\n",
    "for i in range(1,3):\n",
    "    Vis_Mat.append(Exact_CNN(30,i))\n",
    "\n",
    "images=[]\n",
    "Layer_Number=1\n",
    "for i in range(1):\n",
    "    images.append(Vis_Mat[i][Layer_Number])\n",
    "\n",
    "# Create a 3x3 grid of subplots\n",
    "fig, axes = plt.subplots(3, 3, figsize=(8, 8))\n",
    "\n",
    "# Loop through your image data and plot each image on a subplot\n",
    "for i, ax in enumerate(axes.ravel()):\n",
    "    # Check if there are more images than subplots\n",
    "    image_data=np.average(images,axis=-1)\n",
    "    if i < len(image_data):\n",
    "        ax.imshow(image_data[i])  # Plot the image\n",
    "        ax.set_title(f'Approximate Multiplier {i}')  # Set a title for the subplot\n",
    "    else:\n",
    "        ax.axis('off')  # Turn off the empty subplots if there are fewer images\n",
    "\n",
    "# Adjust spacing between subplots for better visualization\n",
    "plt.tight_layout()\n",
    "\n",
    "# Display the plot\n",
    "plt.show()\n",
    "\n",
    "Vis_Mat[0][0]\n"
   ]
  },
  {
   "cell_type": "code",
   "execution_count": 26,
   "metadata": {},
   "outputs": [
    {
     "data": {
      "image/png": "[encoded data removed]",
      "text/plain": [
       "<Figure size 800x800 with 9 Axes>"
      ]
     },
     "metadata": {},
     "output_type": "display_data"
    },
    {
     "data": {
      "text/plain": [
       "4"
      ]
     },
     "execution_count": 26,
     "metadata": {},
     "output_type": "execute_result"
    }
   ],
   "source": [
    "Vis_Mat=[]\n",
    "for i in range(1):\n",
    "    Vis_Mat.append(Exact_CNN_with_Flip(30,i))\n",
    "\n",
    "images=[]\n",
    "Layer_Number=1\n",
    "for i in range(1):\n",
    "    images.append(Vis_Mat[i][Layer_Number])\n",
    "\n",
    "# Create a 3x3 grid of subplots\n",
    "fig, axes = plt.subplots(3, 3, figsize=(8, 8))\n",
    "\n",
    "# Loop through your image data and plot each image on a subplot\n",
    "for i, ax in enumerate(axes.ravel()):\n",
    "    # Check if there are more images than subplots\n",
    "    image_data=np.average(images,axis=-1)\n",
    "    if i < len(image_data):\n",
    "        ax.imshow(image_data[i])  # Plot the image\n",
    "        ax.set_title(f'Approximate Multiplier {i}')  # Set a title for the subplot\n",
    "    else:\n",
    "        ax.axis('off')  # Turn off the empty subplots if there are fewer images\n",
    "\n",
    "# Adjust spacing between subplots for better visualization\n",
    "plt.tight_layout()\n",
    "\n",
    "# Display the plot\n",
    "plt.show()\n",
    "\n",
    "Vis_Mat[0][0]\n"
   ]
  },
  {
   "cell_type": "code",
   "execution_count": 12,
   "metadata": {},
   "outputs": [
    {
     "name": "stdout",
     "output_type": "stream",
     "text": [
      "313/313 [==============================] - 1s 3ms/step - loss: 56280846826504978432.0000 - accuracy: 0.9925\n",
      "Test accuracy: 0.9925000071525574\n"
     ]
    }
   ],
   "source": [
    "# Assuming you have already loaded the model and test data\n",
    "\n",
    "# Compile the model if it's not already compiled\n",
    "model.compile(optimizer='adam', loss='sparse_categorical_crossentropy', metrics=['accuracy'])\n",
    "\n",
    "# Evaluate the model on the test data\n",
    "test_loss, test_accuracy = model.evaluate(test_images, test_labels)\n",
    "\n",
    "# Print the test accuracy\n",
    "print(f'Test accuracy: {test_accuracy}')"
   ]
  },
  {
   "cell_type": "code",
   "execution_count": 19,
   "metadata": {},
   "outputs": [
    {
     "name": "stdout",
     "output_type": "stream",
     "text": [
      "313/313 [==============================] - 1s 3ms/step\n"
     ]
    },
    {
     "data": {
      "image/png": "[encoded data removed]",
      "text/plain": [
       "<Figure size 600x600 with 2 Axes>"
      ]
     },
     "metadata": {},
     "output_type": "display_data"
    }
   ],
   "source": [
    "from sklearn.metrics import confusion_matrix\n",
    "import seaborn as sns\n",
    "predictions = model.predict(test_images)\n",
    "\n",
    "# Find the indices of true \"5\" labels and predicted \"5\" labels\n",
    "true_indices = (test_labels == 6)\n",
    "predicted_indices = (np.argmax(predictions, axis=1) == 6)\n",
    "\n",
    "# Create a confusion matrix for the digit \"5\"\n",
    "confusion = confusion_matrix(true_indices, predicted_indices)\n",
    "\n",
    "# Visualize the confusion matrix\n",
    "plt.figure(figsize=(6, 6))\n",
    "sns.heatmap(confusion, annot=True, fmt=\"d\", cmap=\"Blues\", square=True,\n",
    "            xticklabels=[\"Not 5\", \"Is 5\"],\n",
    "            yticklabels=[\"Not 5\", \"Is 5\"])\n",
    "plt.xlabel('Predicted')\n",
    "plt.ylabel('True')\n",
    "plt.title(\"Confusion Matrix for Digit '5'\")\n",
    "plt.show()"
   ]
  }
 ],
 "metadata": {
  "kernelspec": {
   "display_name": "emerging",
   "language": "python",
   "name": "python3"
  },
  "language_info": {
   "codemirror_mode": {
    "name": "ipython",
    "version": 3
   },
   "file_extension": ".py",
   "mimetype": "text/x-python",
   "name": "python",
   "nbconvert_exporter": "python",
   "pygments_lexer": "ipython3",
   "version": "3.11.6"
  }
 },
 "nbformat": 4,
 "nbformat_minor": 2
}
