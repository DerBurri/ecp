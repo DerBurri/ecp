{
 "cells": [
  {
   "cell_type": "code",
   "execution_count": 4,
   "id": "1b22cb54",
   "metadata": {},
   "outputs": [],
   "source": [
    "import numpy as np\n",
    "import matplotlib.pyplot as plt\n",
    "import tensorflow as tf\n",
    "from scipy import signal\n",
    "from tensorflow import keras"
   ]
  },
  {
   "cell_type": "code",
   "execution_count": 5,
   "metadata": {},
   "outputs": [
    {
     "data": {
      "text/plain": [
       "[PhysicalDevice(name='/physical_device:CPU:0', device_type='CPU')]"
      ]
     },
     "execution_count": 5,
     "metadata": {},
     "output_type": "execute_result"
    }
   ],
   "source": [
    "tf.config.list_physical_devices()"
   ]
  },
  {
   "cell_type": "code",
   "execution_count": null,
   "metadata": {},
   "outputs": [],
   "source": []
  },
  {
   "cell_type": "code",
   "execution_count": 6,
   "id": "46677f8f",
   "metadata": {},
   "outputs": [
    {
     "name": "stdout",
     "output_type": "stream",
     "text": [
      "(10000, 28, 28)\n"
     ]
    }
   ],
   "source": [
    "# Load MNIST dataset\n",
    "mnist = tf.keras.datasets.mnist\n",
    "\n",
    "(train_images, train_labels), (test_images, test_labels) = mnist.load_data()\n",
    "\n",
    "print(test_images.shape)\n",
    "\n",
    "model=tf.keras.models.load_model('my_org_model_top4_quant.h5')\n",
    "\n",
    "a = model.get_weights()\n",
    "\n",
    "#which means that it will return the input tensors of each layer in the original model. \n",
    "#This allows you to access the intermediate activations of all layers in the model for a given input.\n",
    "extractor_in = keras.Model(inputs=model.inputs,\n",
    "                        outputs=[layer.input for layer in model.layers])\n",
    "\n",
    "# The 'test_images' data is passed through the extractor_in model, \n",
    "#and the output of this operation is stored in the features_in variable. \n",
    "#As a result, features_in will be a list of arrays, \n",
    "#with each array corresponding to the activations of the corresponding layer in the original model.\n",
    "features_in = extractor_in(test_images)"
   ]
  },
  {
   "cell_type": "code",
   "execution_count": 7,
   "id": "e684946d",
   "metadata": {},
   "outputs": [],
   "source": [
    "Multiplier_Exact=np.zeros([256,256])\n",
    "for i in range(-128,128):\n",
    "    for j in range(-128,128):\n",
    "        Multiplier_Exact[i+128,j+128]=i*j\n",
    "\n"
   ]
  },
  {
   "cell_type": "code",
   "execution_count": 8,
   "id": "4a23990f",
   "metadata": {},
   "outputs": [],
   "source": [
    "Multiplier_Approx0=Multiplier_Exact\n",
    "Multiplier_Approx1=np.load(\"Approximate Mult1.npy\")\n",
    "Multiplier_Approx2=np.load(\"Approximate Mult2.npy\")\n",
    "Multiplier_Approx3=np.load(\"Approximate Mult3.npy\")\n",
    "Multiplier_Approx4=np.load(\"Approximate Mult4.npy\")\n",
    "Multiplier_Approx5=np.load(\"Approximate Mult5.npy\")\n",
    "Multiplier_Approx6=np.load(\"Approximate Mult6.npy\")\n",
    "Multiplier_Approx7=np.load(\"Approximate Mult7.npy\")\n",
    "Multiplier_Approx8=np.load(\"Approximate Mult8.npy\")"
   ]
  },
  {
   "cell_type": "code",
   "execution_count": 9,
   "id": "b6f2104f",
   "metadata": {},
   "outputs": [],
   "source": [
    "def My_Mult_Var(a,b,t=0):\n",
    "    if t==0:\n",
    "        Multiplier_Approx=Multiplier_Approx0\n",
    "    if t==1:\n",
    "        Multiplier_Approx=Multiplier_Approx1\n",
    "    if t==2:\n",
    "        Multiplier_Approx=Multiplier_Approx2\n",
    "    if t==3:\n",
    "        Multiplier_Approx=Multiplier_Approx3\n",
    "    if t==4:\n",
    "        Multiplier_Approx=Multiplier_Approx4\n",
    "    if t==5:\n",
    "        Multiplier_Approx=Multiplier_Approx5\n",
    "    if t==6:\n",
    "        Multiplier_Approx=Multiplier_Approx6\n",
    "    if t==7:\n",
    "        Multiplier_Approx=Multiplier_Approx7\n",
    "    if t==8:\n",
    "        Multiplier_Approx=Multiplier_Approx8\n",
    "\n",
    "    a=np.array(a)\n",
    "    b=np.array(b)\n",
    "    a_shape=np.shape(a)\n",
    "    b=np.reshape(b,a_shape)\n",
    "    res=np.zeros(a_shape)\n",
    "    if len(a_shape)==1:\n",
    "        for i in range(np.shape(a)[0]):\n",
    "            res[i]=Multiplier_Approx[int(a[i])+128,int(b[i])+128]\n",
    "    if len(a_shape)==2:\n",
    "        for i in range(a_shape[0]):\n",
    "            for j in range(a_shape[1]):\n",
    "                res[i,j]=Multiplier_Approx[int(a[i,j])+128,int(b[i,j])+128]\n",
    "    return res"
   ]
  },
  {
   "cell_type": "code",
   "execution_count": 10,
   "id": "797b13dc",
   "metadata": {},
   "outputs": [],
   "source": [
    "def My_Matmul_LT_Var(a,b,t=0):\n",
    "    a=np.array(a)\n",
    "    b=np.array(b)\n",
    "    a_shape=np.shape(a)\n",
    "    b_shape=np.shape(b)\n",
    "    res=np.zeros([a_shape[0],b_shape[1]])\n",
    "    for i in range(a_shape[0]):\n",
    "        for j in range(b_shape[1]):\n",
    "            res[i,j]=np.sum(My_Mult_Var(a[i,:],b[:,j],t))\n",
    "    return res"
   ]
  },
  {
   "cell_type": "code",
   "execution_count": 11,
   "id": "0a3469f7",
   "metadata": {},
   "outputs": [],
   "source": [
    "def My_Conv2d_LT_Var(a,b,t=0):\n",
    "    a=np.array(a)\n",
    "    b=np.array(b)\n",
    "    a_shape=np.shape(a)\n",
    "    b_shape=np.shape(b)\n",
    "    res_shape1=np.abs(a_shape[0]-b_shape[0])+1\n",
    "    res_shape2=np.abs(a_shape[1]-b_shape[1])+1\n",
    "    res=np.zeros([res_shape1,res_shape2])\n",
    "    for i in range(res_shape1):\n",
    "        for j in range(res_shape2):\n",
    "            res[i,j]=np.sum(My_Mult_Var(np.flip(b),a[i:i+b_shape[0],j:j+b_shape[1]],t))\n",
    "    return res"
   ]
  },
  {
   "cell_type": "code",
   "execution_count": 12,
   "id": "256bcb1c",
   "metadata": {},
   "outputs": [],
   "source": [
    "def CNN_Visual(k,t):  # First Input Determines the Number of the Test Image, \n",
    "                            # and Second one Determines the Type of the Multiplier\n",
    "    z1=np.floor(features_in[0][k]/2)     # Quantization\n",
    "    z2=np.zeros([28,28,64])\n",
    "    for i in range(64):\n",
    "        for j in range(1):\n",
    "            z2[:,:,i]=z2[:,:,i]+My_Conv2d_LT_Var(np.array(z1[:,:,j]),np.flip(a[0][:,:,j,i]),t)\n",
    "        z2[:,:,i]=z2[:,:,i]+a[1][i]\n",
    "    z3=np.maximum(0,z2)                 # ReLU\n",
    "    z3=np.round((z3/np.max(z3))*127)    # Quantization\n",
    "    z4=np.zeros([28,28,32])\n",
    "    for i in range(32):\n",
    "        for j in range(64):\n",
    "             z4[:,:,i]=z4[:,:,i]+My_Conv2d_LT_Var(np.array(z3[:,:,j]),np.flip(a[2][:,:,j,i]),t)\n",
    "        z4[:,:,i]=z4[:,:,i]+a[3][i]\n",
    "    z5=np.maximum(0,z4)                # ReLU\n",
    "    z5=np.round((z5/np.max(z5))*127)   # Quantization\n",
    "    z6=np.zeros([28,28,16])\n",
    "    for i in range(16):\n",
    "        for j in range(32):\n",
    "             z6[:,:,i]=z6[:,:,i]+My_Conv2d_LT_Var(np.array(z5[:,:,j]),np.flip(a[4][:,:,j,i]),t)\n",
    "        z6[:,:,i]=z6[:,:,i]+a[5][i]\n",
    "    z61=np.maximum(0,z6)              # ReLU\n",
    "    z61=np.round((z61/np.max(z61))*127) # Quantization\n",
    "    z7=np.zeros([26,26,8])\n",
    "    for i in range(8):\n",
    "        for j in range(16):\n",
    "             z7[:,:,i]=z7[:,:,i]+My_Conv2d_LT_Var(np.array(z61[:,:,j]),np.flip(a[6][:,:,j,i]),t)\n",
    "        z7[:,:,i]=z7[:,:,i]+a[7][i]\n",
    "    z8=np.maximum(0,z7)                # ReLU\n",
    "    z8=np.round((z8/np.max(z8))*127)   # Quantization\n",
    "    z9=np.zeros([24,24,4])\n",
    "    for i in range(4):\n",
    "        for j in range(8):\n",
    "             z9[:,:,i]=z9[:,:,i]+My_Conv2d_LT_Var(np.array(z8[:,:,j]),np.flip(a[8][:,:,j,i]),t)\n",
    "        z9[:,:,i]=z9[:,:,i]+a[9][i]\n",
    "    z10=np.maximum(0,z9)              # ReLU\n",
    "    z10=np.round((z10/np.max(z10))*127)  # Quantization\n",
    "    z13=np.reshape(z10,[1,-1])  #  Flatten layer\n",
    "    z14=My_Matmul_LT_Var(z13,a[10],t)+a[11]  \n",
    "    z15=np.maximum(0,z14) # ReLU\n",
    "    z15=np.round((z15/np.max(z15))*127)  # Quantization\n",
    "    z141=My_Matmul_LT_Var(z15,a[12],t)+a[13] # ReLU\n",
    "    z151=np.maximum(0,z141)\n",
    "    z151=np.round((z151/np.max(z151))*127) # Quantization\n",
    "    z16=My_Matmul_LT_Var(z151,a[14],t)+a[15]\n",
    "    z16=np.round((z16/np.max(z16))*127) # Quantization\n",
    "    return np.argmax(z16), z3,z5,z61,z8,z10,z15,z151,z16"
   ]
  },
  {
   "cell_type": "code",
   "execution_count": 14,
   "id": "ce545570",
   "metadata": {},
   "outputs": [
    {
     "name": "stderr",
     "output_type": "stream",
     "text": [
      "Traceback (most recent call last):\n",
      "  File \"/home/mburr/mambaforge-pypy3/envs/ecp/lib/python3.11/site-packages/debugpy/_vendored/pydevd/_pydevd_bundle/pydevd_vars.py\", line 624, in change_attr_expression\n",
      "    value = eval(expression, frame.f_globals, frame.f_locals)\n",
      "            ^^^^^^^^^^^^^^^^^^^^^^^^^^^^^^^^^^^^^^^^^^^^^^^^^\n",
      "  File \"<string>\", line 1, in <module>\n",
      "NameError: name 'array' is not defined\n",
      "Traceback (most recent call last):\n",
      "  File \"/home/mburr/mambaforge-pypy3/envs/ecp/lib/python3.11/site-packages/debugpy/_vendored/pydevd/_pydevd_bundle/pydevd_vars.py\", line 624, in change_attr_expression\n",
      "    value = eval(expression, frame.f_globals, frame.f_locals)\n",
      "            ^^^^^^^^^^^^^^^^^^^^^^^^^^^^^^^^^^^^^^^^^^^^^^^^^\n",
      "  File \"<string>\", line 1, in <module>\n",
      "NameError: name 'array' is not defined\n"
     ]
    }
   ],
   "source": [
    "Vis_Mat=[]\n",
    "for i in range(9):\n",
    "    Vis_Mat.append(CNN_Visual(30,i))\n",
    "\n",
    "images=[]\n",
    "Layer_Number=3\n",
    "for i in range(9):\n",
    "    images.append(Vis_Mat[i][Layer_Number])\n",
    "\n",
    "# Create a 3x3 grid of subplots\n",
    "fig, axes = plt.subplots(3, 3, figsize=(8, 8))\n",
    "\n",
    "# Loop through your image data and plot each image on a subplot\n",
    "for i, ax in enumerate(axes.ravel()):\n",
    "    # Check if there are more images than subplots\n",
    "    image_data=np.average(images,axis=-1)\n",
    "    if i < len(image_data):\n",
    "        ax.imshow(image_data[i])  # Plot the image\n",
    "        ax.set_title(f'Approximate Multiplier {i}')  # Set a title for the subplot\n",
    "    else:\n",
    "        ax.axis('off')  # Turn off the empty subplots if there are fewer images\n",
    "\n",
    "# Adjust spacing between subplots for better visualization\n",
    "plt.tight_layout()\n",
    "\n",
    "# Display the plot\n",
    "plt.show()\n",
    "\n",
    "#Result after CNN\n",
    "Vis_Mat[0][0]"
   ]
  },
  {
   "cell_type": "code",
   "execution_count": 16,
   "id": "2e9fb9bc",
   "metadata": {},
   "outputs": [
    {
     "name": "stdout",
     "output_type": "stream",
     "text": [
      "313/313 [==============================] - 1s 4ms/step - loss: 56280846826504978432.0000 - accuracy: 0.9925\n",
      "Test accuracy: 0.9925000071525574\n"
     ]
    }
   ],
   "source": [
    "# Assuming you have already loaded the model and test data\n",
    "\n",
    "# Compile the model if it's not already compiled\n",
    "model.compile(optimizer='adam', loss='sparse_categorical_crossentropy', metrics=['accuracy'])\n",
    "\n",
    "# Evaluate the model on the test data\n",
    "test_loss, test_accuracy = model.evaluate(test_images, test_labels)\n",
    "\n",
    "# Print the test accuracy\n",
    "print(f'Test accuracy: {test_accuracy}')\n"
   ]
  },
  {
   "cell_type": "code",
   "execution_count": 28,
   "id": "45fb6f85",
   "metadata": {},
   "outputs": [
    {
     "name": "stdout",
     "output_type": "stream",
     "text": [
      "313/313 [==============================] - 1s 4ms/step\n"
     ]
    },
    {
     "data": {
      "image/png": "[encoded data removed]",
      "text/plain": [
       "<Figure size 600x600 with 2 Axes>"
      ]
     },
     "metadata": {},
     "output_type": "display_data"
    }
   ],
   "source": [
    "from sklearn.metrics import confusion_matrix\n",
    "import seaborn as sns\n",
    "\n",
    "\n",
    "predictions = model.predict(test_images)\n",
    "\n",
    "# Find the indices of true \"5\" labels and predicted \"5\" labels\n",
    "true_indices = (test_labels == 6)\n",
    "predicted_indices = (np.argmax(predictions, axis=1) == 6)\n",
    "\n",
    "# Create a confusion matrix for the digit \"5\"\n",
    "confusion = confusion_matrix(true_indices, predicted_indices)\n",
    "\n",
    "# Visualize the confusion matrix\n",
    "plt.figure(figsize=(6, 6))\n",
    "sns.heatmap(confusion, annot=True, fmt=\"d\", cmap=\"Blues\", square=True,\n",
    "            xticklabels=[\"Not 5\", \"Is 5\"],\n",
    "            yticklabels=[\"Not 5\", \"Is 5\"])\n",
    "plt.xlabel('Predicted')\n",
    "plt.ylabel('True')\n",
    "plt.title(\"Confusion Matrix for Digit '6'\")\n",
    "plt.show()\n",
    "\n",
    "\n"
   ]
  },
  {
   "cell_type": "code",
   "execution_count": null,
   "id": "0a5f422f",
   "metadata": {},
   "outputs": [],
   "source": []
  }
 ],
 "metadata": {
  "kernelspec": {
   "display_name": "Python 3 (ipykernel)",
   "language": "python",
   "name": "python3"
  },
  "language_info": {
   "codemirror_mode": {
    "name": "ipython",
    "version": 3
   },
   "file_extension": ".py",
   "mimetype": "text/x-python",
   "name": "python",
   "nbconvert_exporter": "python",
   "pygments_lexer": "ipython3",
   "version": "3.11.6"
  }
 },
 "nbformat": 4,
 "nbformat_minor": 5
}
