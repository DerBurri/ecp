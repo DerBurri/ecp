{
 "cells": [
  {
   "cell_type": "code",
   "execution_count": 16,
   "metadata": {
    "collapsed": true,
    "ExecuteTime": {
     "end_time": "2023-11-08T11:21:03.757027Z",
     "start_time": "2023-11-08T11:21:03.748972Z"
    }
   },
   "outputs": [],
   "source": [
    "import numpy as np\n",
    "import matplotlib . pyplot as plt\n",
    "import tensorflow as tf\n",
    "from scipy import signal\n",
    "from tensorflow import keras"
   ]
  },
  {
   "cell_type": "code",
   "execution_count": 17,
   "outputs": [],
   "source": [
    "# Load MNIST Dataset\n",
    "mnist = tf.keras.datasets.mnist\n",
    "(train_images , train_labels), (test_images , test_labels) = mnist.load_data()"
   ],
   "metadata": {
    "collapsed": false,
    "ExecuteTime": {
     "end_time": "2023-11-08T11:21:03.916944Z",
     "start_time": "2023-11-08T11:21:03.752583Z"
    }
   }
  },
  {
   "cell_type": "code",
   "execution_count": 18,
   "outputs": [],
   "source": [
    "model = tf.keras.models.load_model('my_org_model_top4_quant.h5')"
   ],
   "metadata": {
    "collapsed": false,
    "ExecuteTime": {
     "end_time": "2023-11-08T11:21:04.142783Z",
     "start_time": "2023-11-08T11:21:03.920633Z"
    }
   }
  },
  {
   "cell_type": "code",
   "execution_count": 19,
   "outputs": [],
   "source": [
    "a = model.get_weights()"
   ],
   "metadata": {
    "collapsed": false,
    "ExecuteTime": {
     "end_time": "2023-11-08T11:21:04.150589Z",
     "start_time": "2023-11-08T11:21:04.144Z"
    }
   }
  },
  {
   "cell_type": "code",
   "execution_count": 20,
   "outputs": [],
   "source": [
    "extractor_in = keras.Model(inputs=model.inputs , outputs=[layer.input for layer in model.layers])\n",
    "features_in = extractor_in(test_images)"
   ],
   "metadata": {
    "collapsed": false,
    "ExecuteTime": {
     "end_time": "2023-11-08T11:21:04.560817Z",
     "start_time": "2023-11-08T11:21:04.153058Z"
    }
   }
  },
  {
   "cell_type": "code",
   "execution_count": 21,
   "outputs": [],
   "source": [
    "Multiplier_Exact = np.zeros([256, 256])\n",
    "# Populate the Exact Multiplier Matrix\n",
    "for i in range(-128, 128):\n",
    "    for j in range(-128, 128):\n",
    "        Multiplier_Exact[i + 128, j + 128] = i * j"
   ],
   "metadata": {
    "collapsed": false,
    "ExecuteTime": {
     "end_time": "2023-11-08T11:21:04.573146Z",
     "start_time": "2023-11-08T11:21:04.561944Z"
    }
   }
  },
  {
   "cell_type": "code",
   "execution_count": 27,
   "outputs": [],
   "source": [
    "def My_Mult_Exact(a,b,t=0):\n",
    "    a=np.array(a)\n",
    "    b=np.array(b)\n",
    "    a_shape=np.shape(a)\n",
    "    b=np.reshape(b,a_shape)\n",
    "    res=np.zeros(a_shape)\n",
    "    if len(a_shape)==1:\n",
    "        for i in range(np.shape(a)[0]):\n",
    "            res[i]=Multiplier_Exact[int(a[i])+128,int(b[i])+128]\n",
    "    if len(a_shape)==2:\n",
    "        for i in range(a_shape[0]):\n",
    "            for j in range(a_shape[1]):\n",
    "                res[i,j]=Multiplier_Exact[int(a[i,j])+128,int(b[i,j])+128]\n",
    "    return res"
   ],
   "metadata": {
    "collapsed": false,
    "ExecuteTime": {
     "end_time": "2023-11-08T11:28:23.333124Z",
     "start_time": "2023-11-08T11:28:23.329725Z"
    }
   }
  },
  {
   "cell_type": "code",
   "execution_count": 28,
   "outputs": [],
   "source": [
    "def My_Matmul_LT_Exact(a,b,t=0):\n",
    "    a=np.array(a)\n",
    "    b=np.array(b)\n",
    "    a_shape=np.shape(a)\n",
    "    b_shape=np.shape(b)\n",
    "    res=np.zeros([a_shape[0],b_shape[1]])\n",
    "    for i in range(a_shape[0]):\n",
    "        for j in range(b_shape[1]):\n",
    "            res[i,j]=np.sum(My_Mult_Exact(a[i,:],b[:,j],t))\n",
    "    return res"
   ],
   "metadata": {
    "collapsed": false,
    "ExecuteTime": {
     "end_time": "2023-11-08T11:28:25.018988Z",
     "start_time": "2023-11-08T11:28:25.016497Z"
    }
   }
  },
  {
   "cell_type": "code",
   "execution_count": 29,
   "outputs": [],
   "source": [
    "def My_Conv2d_LT_Exact(a,b,t=0):\n",
    "    a=np.array(a)\n",
    "    b=np.array(b)\n",
    "    a_shape=np.shape(a)\n",
    "    b_shape=np.shape(b)\n",
    "    res_shape1=np.abs(a_shape[0]-b_shape[0])+1\n",
    "    res_shape2=np.abs(a_shape[1]-b_shape[1])+1\n",
    "    res=np.zeros([res_shape1,res_shape2])\n",
    "    for i in range(res_shape1):\n",
    "        for j in range(res_shape2):\n",
    "            res[i,j]=np.sum(My_Matmul_LT_Exact(np.flip(b),a[i:i+b_shape[0],j:j+b_shape[1]],t))\n",
    "    return res"
   ],
   "metadata": {
    "collapsed": false,
    "ExecuteTime": {
     "end_time": "2023-11-08T11:28:27.467711Z",
     "start_time": "2023-11-08T11:28:27.464529Z"
    }
   }
  },
  {
   "cell_type": "code",
   "execution_count": 30,
   "outputs": [],
   "source": [
    "def Exact_CNN(k,t):  # First Input Determines the Number of the Test Image,\n",
    "                            # and Second one Determines the Type of the Multiplier\n",
    "    z1=np.floor(features_in[0][k]/2)     # Quantization\n",
    "    z2=np.zeros([28,28,64])\n",
    "    for i in range(64):\n",
    "        for j in range(1):\n",
    "            z2[:,:,i]=z2[:,:,i]+My_Conv2d_LT_Exact(np.array(z1[:,:,j]),np.flip(a[0][:,:,j,i]),t)\n",
    "        z2[:,:,i]=z2[:,:,i]+a[1][i]\n",
    "\n",
    "    #After the convolution and bias addition, ReLU activation is applied to the z2 tensor.\n",
    "    #Then, quantization is performed by scaling the values and rounding them to the nearest integer,\n",
    "    #resulting in a range of [0, 127].\n",
    "    z3=np.maximum(0,z2)                 # ReLU\n",
    "    z3=np.round((z3/np.max(z3))*127)    # Quantization\n",
    "\n",
    "\n",
    "    z4=np.zeros([28,28,32])\n",
    "    for i in range(32):\n",
    "        for j in range(64):\n",
    "             z4[:,:,i]=z4[:,:,i]+My_Conv2d_LT_Exact(np.array(z3[:,:,j]),np.flip(a[2][:,:,j,i]),t)\n",
    "        z4[:,:,i]=z4[:,:,i]+a[3][i]\n",
    "    z5=np.maximum(0,z4)                # ReLU\n",
    "    z5=np.round((z5/np.max(z5))*127)   # Quantization\n",
    "    z6=np.zeros([28,28,16])\n",
    "    for i in range(16):\n",
    "        for j in range(32):\n",
    "             z6[:,:,i]=z6[:,:,i]+My_Conv2d_LT_Exact(np.array(z5[:,:,j]),np.flip(a[4][:,:,j,i]),t)\n",
    "        z6[:,:,i]=z6[:,:,i]+a[5][i]\n",
    "    z61=np.maximum(0,z6)              # ReLU\n",
    "    z61=np.round((z61/np.max(z61))*127) # Quantization\n",
    "    z7=np.zeros([26,26,8])\n",
    "    for i in range(8):\n",
    "        for j in range(16):\n",
    "             z7[:,:,i]=z7[:,:,i]+My_Conv2d_LT_Exact(np.array(z61[:,:,j]),np.flip(a[6][:,:,j,i]),t)\n",
    "        z7[:,:,i]=z7[:,:,i]+a[7][i]\n",
    "    z8=np.maximum(0,z7)                # ReLU\n",
    "    z8=np.round((z8/np.max(z8))*127)   # Quantization\n",
    "    z9=np.zeros([24,24,4])\n",
    "    for i in range(4):\n",
    "        for j in range(8):\n",
    "             z9[:,:,i]=z9[:,:,i]+My_Conv2d_LT_Exact(np.array(z8[:,:,j]),np.flip(a[8][:,:,j,i]),t)\n",
    "        z9[:,:,i]=z9[:,:,i]+a[9][i]\n",
    "\n",
    "    z10=np.maximum(0,z9)              # ReLU\n",
    "    z10=np.round((z10/np.max(z10))*127)  # Quantization\n",
    "    z13=np.reshape(z10,[1,-1])  #  Flatten layer\n",
    "    z14=My_Matmul_LT_Exact(z13,a[10],t)+a[11]\n",
    "    z15=np.maximum(0,z14) # ReLU\n",
    "    z15=np.round((z15/np.max(z15))*127)  # Quantization\n",
    "    z141=My_Matmul_LT_Exact(z15,a[12],t)+a[13] # ReLU\n",
    "    z151=np.maximum(0,z141)\n",
    "    z151=np.round((z151/np.max(z151))*127) # Quantization\n",
    "    z16=My_Matmul_LT_Exact(z151,a[14],t)+a[15]\n",
    "    z16=np.round((z16/np.max(z16))*127) # Quantization\n",
    "    return np.argmax(z16), z3,z5,z61,z8,z10,z15,z151,z16"
   ],
   "metadata": {
    "collapsed": false,
    "ExecuteTime": {
     "end_time": "2023-11-08T11:28:30.969525Z",
     "start_time": "2023-11-08T11:28:30.968550Z"
    }
   }
  },
  {
   "cell_type": "code",
   "execution_count": 37,
   "outputs": [
    {
     "name": "stdout",
     "output_type": "stream",
     "text": [
      "1\n"
     ]
    },
    {
     "data": {
      "text/plain": "<Figure size 800x800 with 9 Axes>",
      "image/png": "[encoded data removed]"
     },
     "metadata": {},
     "output_type": "display_data"
    }
   ],
   "source": [
    "Vis_Mat = [] # List to store feature maps\n",
    "for i in range(1):\n",
    "    Vis_Mat.append(Exact_CNN(31, i)) # Generate feature maps\n",
    "images = [] # List to store selected layer ’s feature maps\n",
    "Layer_Number = 1 # Selected layer\n",
    "for i in range(1):\n",
    "    images.append(Vis_Mat[i][Layer_Number]) # select the feature maps for the chosen layer\n",
    "\n",
    "# Create a 3x3 grid of subplots\n",
    "fig, axes = plt.subplots(3, 3, figsize=(8, 8))\n",
    "# Loop through your image data and plot each image on a subplot\n",
    "for i, ax in enumerate(axes.ravel()):\n",
    "    # Check if there are more images than subplots\n",
    "    image_data = np.average(images, axis=-1)\n",
    "    if i < len(image_data):\n",
    "        ax.imshow(image_data[i]) # Plot the image\n",
    "        ax.set_title(f'Approximate Multiplier {i}') #Set a title for the subplot\n",
    "    else:\n",
    "        ax.axis('off') # Turn off the empty subplots if there are fewer images\n",
    "# Adjust spacing between subplots for better visualization\n",
    "plt.tight_layout()\n",
    "# Display the plot\n",
    "plt.show()\n",
    "Vis_Mat[0][0]"
   ],
   "metadata": {
    "collapsed": false,
    "ExecuteTime": {
     "end_time": "2023-11-08T11:35:28.877279Z",
     "start_time": "2023-11-08T11:35:11.123457Z"
    }
   }
  },
  {
   "cell_type": "code",
   "execution_count": 32,
   "outputs": [
    {
     "name": "stdout",
     "output_type": "stream",
     "text": [
      "313/313 [==============================] - 4s 7ms/step - loss: 10130752786177755971584.0000 - accuracy: 0.7589\n"
     ]
    }
   ],
   "source": [
    "# Compile the model if it’s not already compiled\n",
    "model.compile(optimizer='adam', loss='sparse_categorical_crossentropy', metrics=['accuracy'])\n",
    "\n",
    "# Evaluate the model on the test data\n",
    "test_loss , test_accuracy = model.evaluate(test_images ,test_labels)"
   ],
   "metadata": {
    "collapsed": false,
    "ExecuteTime": {
     "end_time": "2023-11-08T11:29:05.365174Z",
     "start_time": "2023-11-08T11:29:01.424356Z"
    }
   }
  },
  {
   "cell_type": "code",
   "execution_count": null,
   "outputs": [],
   "source": [
    "# Assuming you have already loaded the model and test data\n",
    "\n",
    "# Compile the model if it's not already compiled\n",
    "model.compile(optimizer='adam', loss='sparse_categorical_crossentropy', metrics=['accuracy'])\n",
    "\n",
    "# Evaluate the model on the test data\n",
    "test_loss, test_accuracy = model.evaluate(test_images, test_labels)\n",
    "\n",
    "# Print the test accuracy\n",
    "print(f'Test accuracy: {test_accuracy}')"
   ],
   "metadata": {
    "collapsed": false
   }
  },
  {
   "cell_type": "code",
   "execution_count": 38,
   "outputs": [
    {
     "name": "stdout",
     "output_type": "stream",
     "text": [
      "313/313 [==============================] - 1s 3ms/step\n"
     ]
    },
    {
     "data": {
      "text/plain": "<Figure size 600x600 with 2 Axes>",
      "image/png": "[encoded data removed]"
     },
     "metadata": {},
     "output_type": "display_data"
    }
   ],
   "source": [
    "from sklearn.metrics import confusion_matrix\n",
    "import seaborn as sns\n",
    "\n",
    "predictions = model.predict(test_images)\n",
    "\n",
    "# Find the indices of true \"5\" labels and predicted \"5\" labels\n",
    "true_indices = (test_labels == 6)\n",
    "predicted_indices = (np.argmax(predictions, axis=1) == 6)\n",
    "\n",
    "# Create a confusion matrix for the digit \"5\"\n",
    "confusion = confusion_matrix(true_indices, predicted_indices)\n",
    "\n",
    "# Visualize the confusion matrix\n",
    "plt.figure(figsize=(6, 6))\n",
    "sns.heatmap(confusion, annot=True, fmt=\"d\", cmap=\"Blues\", square=True,\n",
    "            xticklabels=[\"Not 5\", \"Is 5\"],\n",
    "            yticklabels=[\"Not 5\", \"Is 5\"])\n",
    "plt.xlabel('Predicted')\n",
    "plt.ylabel('True')\n",
    "plt.title(\"Confusion Matrix for Digit '5'\")\n",
    "plt.show()"
   ],
   "metadata": {
    "collapsed": false,
    "ExecuteTime": {
     "end_time": "2023-11-08T11:39:53.599473Z",
     "start_time": "2023-11-08T11:39:51.343995Z"
    }
   }
  }
 ],
 "metadata": {
  "kernelspec": {
   "display_name": "Python 3",
   "language": "python",
   "name": "python3"
  },
  "language_info": {
   "codemirror_mode": {
    "name": "ipython",
    "version": 2
   },
   "file_extension": ".py",
   "mimetype": "text/x-python",
   "name": "python",
   "nbconvert_exporter": "python",
   "pygments_lexer": "ipython2",
   "version": "2.7.6"
  }
 },
 "nbformat": 4,
 "nbformat_minor": 0
}
